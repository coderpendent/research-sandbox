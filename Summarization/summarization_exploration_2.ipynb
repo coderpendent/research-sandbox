{
 "cells": [
  {
   "cell_type": "markdown",
   "metadata": {},
   "source": [
    "IMPORTANT\n",
    "\n",
    "Before running the cells below, run in the terminal: `conda activate transformersum` and restart this notebook.  "
   ]
  },
  {
   "cell_type": "code",
   "execution_count": 1,
   "metadata": {},
   "outputs": [],
   "source": [
    "import torch\n",
    "import math\n",
    "import syntok.segmenter as segmenter\n",
    "from pathlib import Path\n",
    "from transformers import AutoTokenizer, AutoModelForSeq2SeqLM, pipeline\n",
    "from itertools import zip_longest"
   ]
  },
  {
   "cell_type": "markdown",
   "metadata": {},
   "source": [
    "# Overview\n",
    "\n",
    "## Abstractive Summarization Models\n",
    "\n",
    "At the time of this notebook, there are 3 state of the art abstractive text summarization models: \n",
    "1. Pegasus\n",
    "2. T5\n",
    "3. BART\n",
    "\n",
    "Rather than comparing all 3 in this notebook, I have chosen to focus on BART.  BART has been shown to slightly outperform the others for summarization tasks (https://www.ncbi.nlm.nih.gov/pmc/articles/PMC7720861/).  \n",
    "\n",
    "## BART Models\n",
    "\n",
    "BART (https://arxiv.org/abs/1910.13461) was trained on a number of tasks.  There is no single BART model on HuggingFace for all of the training tasks presented in the paper, rather a bunch of models that are trained on the specific tasks.  For summarization, you can find BART models on HuggingFace that were trained on the following datasets:\n",
    "\n",
    "* CNN/DailyMail - Dataset of news articles.  The summaries in this dataset resemble the source sentences and extractive summarization models perform well here.  BART beat all previous benchmarks. Use model ID = \"facebook/bart-large-cnn\"\n",
    "* XSUM - Dataset of news articles.  The summaries in this dataset are highly abstract and generally much shorter than the original text.  Abstractive summarization models perform well here.  BART beat all previous benchmarks.  Use model ID = \"facebook/bart-large-xsum\"\n",
    "\n",
    "Since there are 2 model choices, the one you should use depends on what you want the summarizer to do.  If it should be very high level and very short, go with XSUM.  If it should be more detailed but capture the basics of the parent text, then go with CNN.  \n",
    "\n",
    "### Model Speed\n",
    "\n",
    "Both models have distilled versions (smaller models for faster inference).  Since these models will be used in production environments, inference speed is important.  For this reason, I will evaluate the distilled versions of the models in this notebook.  Metrics showing how the distilled models compare to the full sized (baseline) models can be found here: https://huggingface.co/sshleifer/distilbart-xsum-12-6#metrics-for-distilbart-models.  \n",
    "\n",
    "Dynamic quantization can be used to further reduce the model size and increase inference speed.  Pytorch makes this extremely simple with a 1-liner.  Quantization compresses the weights of a pre-trained model without much impact to model performance.  See an example with Pytorch here: https://pytorch.org/tutorials/intermediate/dynamic_quantization_bert_tutorial.html.\n",
    "\n",
    "# Preparing the Models"
   ]
  },
  {
   "cell_type": "code",
   "execution_count": 2,
   "metadata": {},
   "outputs": [],
   "source": [
    "# specify the model names for HuggingFace's model hub and the local paths to save/load them\n",
    "bart_xsum = \"sshleifer/distilbart-xsum-12-6\"\n",
    "bart_cnn = \"sshleifer/distilbart-cnn-12-3\"\n",
    "\n",
    "bart_xsum_model_path = Path(\"models/bart_xsum\")\n",
    "bart_cnn_model_path = Path(\"models/bart_cnn\")"
   ]
  },
  {
   "cell_type": "code",
   "execution_count": 3,
   "metadata": {},
   "outputs": [
    {
     "data": {
      "application/vnd.jupyter.widget-view+json": {
       "model_id": "6680cd116b814c6c944355e1768d5ab3",
       "version_major": 2,
       "version_minor": 0
      },
      "text/plain": [
       "Downloading:   0%|          | 0.00/26.0 [00:00<?, ?B/s]"
      ]
     },
     "metadata": {},
     "output_type": "display_data"
    },
    {
     "data": {
      "application/vnd.jupyter.widget-view+json": {
       "model_id": "a56c70901b0549d99317950cef23a6e5",
       "version_major": 2,
       "version_minor": 0
      },
      "text/plain": [
       "Downloading:   0%|          | 0.00/1.55k [00:00<?, ?B/s]"
      ]
     },
     "metadata": {},
     "output_type": "display_data"
    },
    {
     "data": {
      "application/vnd.jupyter.widget-view+json": {
       "model_id": "a5aa992293b14f9fa59cf2985b648346",
       "version_major": 2,
       "version_minor": 0
      },
      "text/plain": [
       "Downloading:   0%|          | 0.00/878k [00:00<?, ?B/s]"
      ]
     },
     "metadata": {},
     "output_type": "display_data"
    },
    {
     "data": {
      "application/vnd.jupyter.widget-view+json": {
       "model_id": "5d0db0b9a9be410aafeb285a147714cb",
       "version_major": 2,
       "version_minor": 0
      },
      "text/plain": [
       "Downloading:   0%|          | 0.00/446k [00:00<?, ?B/s]"
      ]
     },
     "metadata": {},
     "output_type": "display_data"
    },
    {
     "data": {
      "application/vnd.jupyter.widget-view+json": {
       "model_id": "9275caa23c774a44a6f248dc6ee0cf62",
       "version_major": 2,
       "version_minor": 0
      },
      "text/plain": [
       "Downloading:   0%|          | 0.00/583M [00:00<?, ?B/s]"
      ]
     },
     "metadata": {},
     "output_type": "display_data"
    },
    {
     "data": {
      "application/vnd.jupyter.widget-view+json": {
       "model_id": "e289967d7857482ebf0c3b001ca53d98",
       "version_major": 2,
       "version_minor": 0
      },
      "text/plain": [
       "Downloading:   0%|          | 0.00/26.0 [00:00<?, ?B/s]"
      ]
     },
     "metadata": {},
     "output_type": "display_data"
    },
    {
     "data": {
      "application/vnd.jupyter.widget-view+json": {
       "model_id": "b49d68c43f56452bb8f623514aa6ace9",
       "version_major": 2,
       "version_minor": 0
      },
      "text/plain": [
       "Downloading:   0%|          | 0.00/1.69k [00:00<?, ?B/s]"
      ]
     },
     "metadata": {},
     "output_type": "display_data"
    },
    {
     "data": {
      "application/vnd.jupyter.widget-view+json": {
       "model_id": "2cbbaff37f9448228a0af6b760d445c2",
       "version_major": 2,
       "version_minor": 0
      },
      "text/plain": [
       "Downloading:   0%|          | 0.00/878k [00:00<?, ?B/s]"
      ]
     },
     "metadata": {},
     "output_type": "display_data"
    },
    {
     "data": {
      "application/vnd.jupyter.widget-view+json": {
       "model_id": "793223ffc57146469fb50c2adaa11ad5",
       "version_major": 2,
       "version_minor": 0
      },
      "text/plain": [
       "Downloading:   0%|          | 0.00/446k [00:00<?, ?B/s]"
      ]
     },
     "metadata": {},
     "output_type": "display_data"
    },
    {
     "data": {
      "application/vnd.jupyter.widget-view+json": {
       "model_id": "f097ba307a164791ab886d3b8116d092",
       "version_major": 2,
       "version_minor": 0
      },
      "text/plain": [
       "Downloading:   0%|          | 0.00/238 [00:00<?, ?B/s]"
      ]
     },
     "metadata": {},
     "output_type": "display_data"
    },
    {
     "data": {
      "application/vnd.jupyter.widget-view+json": {
       "model_id": "b0a2d641d521448fade7a424e79826bc",
       "version_major": 2,
       "version_minor": 0
      },
      "text/plain": [
       "Downloading:   0%|          | 0.00/973M [00:00<?, ?B/s]"
      ]
     },
     "metadata": {},
     "output_type": "display_data"
    }
   ],
   "source": [
    "# load the tokenizer and model from HuggingFace\n",
    "bart_xsum_tokenizer = AutoTokenizer.from_pretrained(bart_xsum)\n",
    "bart_xsum_model = AutoModelForSeq2SeqLM.from_pretrained(bart_xsum)\n",
    "\n",
    "bart_cnn_tokenizer = AutoTokenizer.from_pretrained(bart_cnn)\n",
    "bart_cnn_model = AutoModelForSeq2SeqLM.from_pretrained(bart_cnn)"
   ]
  },
  {
   "cell_type": "code",
   "execution_count": 4,
   "metadata": {},
   "outputs": [],
   "source": [
    "bart_xsum_model_path = Path(\"models/bart_xsum\")\n",
    "bart_cnn_model_path = Path(\"models/bart_cnn\")"
   ]
  },
  {
   "cell_type": "code",
   "execution_count": 5,
   "metadata": {},
   "outputs": [],
   "source": [
    "# quantize and save the compressed models\n",
    "bart_xsum_model_quantized = torch.quantization.quantize_dynamic(\n",
    "    bart_xsum_model, {torch.nn.Linear}, dtype=torch.qint8\n",
    ")\n",
    "torch.save(bart_xsum_model_quantized, bart_xsum_model_path / \"model.pt\")\n",
    "\n",
    "\n",
    "bart_cnn_model_quantized = torch.quantization.quantize_dynamic(\n",
    "    bart_cnn_model, {torch.nn.Linear}, dtype=torch.qint8\n",
    ")\n",
    "torch.save(bart_cnn_model_quantized, bart_cnn_model_path / \"model.pt\")"
   ]
  },
  {
   "cell_type": "markdown",
   "metadata": {},
   "source": [
    "# Simple Summarization"
   ]
  },
  {
   "cell_type": "code",
   "execution_count": 6,
   "metadata": {},
   "outputs": [],
   "source": [
    "articles = [\n",
    "    (\"Denmark has agreed to provide Ukraine with a Harpoon launcher and missiles to 'help Ukraine defend its coast',\"\n",
    "     \"US Secretary of Defense Lloyd Austin said at the conclusion of the second Ukraine Contact Group meeting hosted\"\n",
    "     \"by Austin on Monday. The second contact group meeting was held virtually. \"\n",
    "     \"The Czech Republic also agreed to send 'substantial support' to Ukraine including 'a recent donation of attack \"\n",
    "     \"helicopters, tanks and rocket systems,' Austin said at a press conference at the conclusion of the meeting.\"\n",
    "     \"Overall, 20 countries 'announced new security assistance packages,' after the meeting, Austin said, including \"\n",
    "     \"'donating critically needed artillery ammunition, coastal defense systems and tanks and other armored vehicles.'\"\n",
    "     \"'Others came forward with new commitments for training Ukraine’s forces and sustaining its military systems,' \"\n",
    "     \"Austin added. \"\n",
    "     \"A total of 47 countries participated in the contact group’s second meeting, Chairman of the Joint Chiefs of \"\n",
    "     \"Staff Gen. Mark Milley said.\"\n",
    "     \"Secretary Austin will host the third meeting of the Ukraine Contact Group in person in Brussels on June 15, \"\n",
    "     \"Austin said at the conclusion of the second virtual meeting of the contact group Monday. \"\n",
    "     \"'I will convene the Contact Group for our third meeting next month and will gather in person this time, on \"\n",
    "     \"June 15, in the margins of the NATO defense ministerial in Brussels,' Austin said. 'Of course, it won't be a \"\n",
    "     \"NATO event, but we want to keep up the, up, keep up the tempo of these meetings and I wanted to use my travel \"\n",
    "     \"to Europe to ensure that we're building on our momentum.'\"\n",
    "    ),\n",
    "    (\"Germany's vice chancellor and economy minister told CNN a recession is not inevitable. \"\n",
    "     \"Speaking to CNN's Julia Chatterley at the World Economic Forum in Davos, Robert Habeck insisted that \"\n",
    "     \"'nothing is inevitable, we are human beings and can change the course of history.'\"\n",
    "     \"He also spoke to CNN about the war in Ukraine and Europe’s efforts to lessen dependence on Russian energy. \"\n",
    "     \"Asked whether the European Union could reach an agreement on the next round of sanctions, including an oil \"\n",
    "     \"embargo, he said he was confident a deal could be reached and could be done within days.\"\n",
    "     \"'I expect everyone — also Hungary — that they work to find a solution and not saying 'OK we have an exception \"\n",
    "     \"and then we will lay back and build on our partnership with Putin,' he said while speaking earlier on a panel \"\n",
    "     \"at Davos.\"\n",
    "     \"Habeck also discussed Germany’s dependence on Russian gas, saying German industry would collapse without \"\n",
    "     \"Russian energy. Asked whether Germany would pay for Russian gas in rubles, Habeck said that German companies \"\n",
    "     \"would pay for gas in euros, if Russia then decided to exchange those euros into rubles, it was a 'face saving' \"\n",
    "     \"measure for Putin.\"\n",
    "     \"He insisted that any such moves were approved by the EU Commission and did not break sanctions.\"\n",
    "     \"More background: Russian President Vladimir Putin said in March that 'unfriendly' nations would have to pay \"\n",
    "     \"rubles, rather than the euros or dollars stated in contracts. Buyers could make euro or dollar payments into \"\n",
    "     \"an account at Russia's Gazprombank, which would then convert the funds into rubles and transfer them to a \"\n",
    "     \"second account from which the payment to Russia would be made.\"\n",
    "     \"Gas supplies to Poland and Bulgaria were cut off, after they refused to pay in rubles. Other big European \"\n",
    "     \"gas companies have told CNN they are working on ways to pay for Russian gas, while not breaking EU sanctions.\"\n",
    "    ),\n",
    "    (\"Coffee giant Starbucks says it has exited Russia and will no longer have a brand presence there, according \"\n",
    "     \"to a press release on Monday. \"\n",
    "     \"The coffee company says it has been operating in Russia for 15 years and has now closed its 130 licensed \"\n",
    "     \"cafes in the country. Starbucks joins other companies like McDonald’s and Exxon Mobil in taking its business \"\n",
    "     \"completely out of Russia. \"\n",
    "     \"Starbucks says it will 'support' its nearly 2,000 workers in Russia, including pay for six months and \"\n",
    "     \"assistance for partners to transition to new opportunities outside of Starbucks. \"\n",
    "     \"This comes after Starbucks CEO Kevin Johnson said in March that it had suspended all business activity in \"\n",
    "     \"Russia, including shipment of all Starbucks products. \"\n",
    "    ),\n",
    "]"
   ]
  },
  {
   "cell_type": "code",
   "execution_count": 7,
   "metadata": {},
   "outputs": [
    {
     "name": "stdout",
     "output_type": "stream",
     "text": [
      "----------\n",
      "News Article Summary\n",
      "\n",
      "XSUM Summary:\n",
      "[{'summary_text': ' The first meeting of the Contact Contact Group in the European Union has been held in Brussels.'}]\n",
      "CNN Summary:\n",
      "[{'summary_text': \" The Czech Republic also agreed to send 'substantial support' to Ukraine . 'We will always always be able to make a point point clear clear of the idea,' said Austin . 'I would have been a great part of the country's armed armed armed with missiles,' says Austin .\"}]\n",
      "----------\n",
      "News Article Summary\n",
      "\n",
      "XSUM Summary:\n",
      "[{'summary_text': ' The Russian President, Vladimir Putin, has been speaking to the BBC.'}]\n",
      "CNN Summary:\n",
      "[{'summary_text': \" Russian President Vladimir Vladimir Putin said in March that 'unfriendly' He said he would be able to pay for the energy of energy . He spoke to a panel of the World Economic Forum in Davos . Germany's vice chancellor and economy minister told CNN a recession is not inevitable .\"}]\n",
      "----------\n",
      "News Article Summary\n",
      "\n"
     ]
    },
    {
     "name": "stderr",
     "output_type": "stream",
     "text": [
      "Your max_length is set to 142, but you input_length is only 136. You might consider decreasing max_length manually, e.g. summarizer('...', max_length=68)\n"
     ]
    },
    {
     "name": "stdout",
     "output_type": "stream",
     "text": [
      "XSUM Summary:\n",
      "[{'summary_text': ' Starbucks has announced that the company has decided to withdraw from Russia.'}]\n",
      "CNN Summary:\n",
      "[{'summary_text': ' The coffee company says it has been operating in Russia . Starbucks says it will not have a brand presence there . Starbucks will be no longer have the presence at the site . Starbucks has been a hot spot for the first time . The company says the company has a history history of working together .'}]\n"
     ]
    }
   ],
   "source": [
    "summarizer_xsum = pipeline(\"summarization\", model=bart_xsum_model_quantized, tokenizer=bart_xsum_tokenizer)\n",
    "summarizer_cnn = pipeline(\"summarization\", model=bart_cnn_model_quantized, tokenizer=bart_cnn_tokenizer)\n",
    "\n",
    "for article in articles:\n",
    "    print(\"----------\\nNews Article Summary\\n\")\n",
    "    print(f\"XSUM Summary:\\n{summarizer_xsum(article)}\")\n",
    "    print(f\"CNN Summary:\\n{summarizer_cnn(article)}\")"
   ]
  },
  {
   "cell_type": "markdown",
   "metadata": {},
   "source": [
    "# Manipulating the Summary with Constrained Beam Search\n",
    "\n",
    "Autoregressive models generate 1 word at a time, based on the word with the highest probability of occurring next.  The problem with a greedy search strategy like this is that it can be repetitive, and it could result in output that is suboptimal.  For example, if the next word is highly probable, but the word options after that (further down the search tree) are less probable, that could be a sub-optimal output.  See: https://huggingface.co/blog/how-to-generate.\n",
    "\n",
    "Constrained beam searches inject desired words into the output sequence: https://huggingface.co/blog/constrained-beam-search.  Here I will try injecting some words into the summaries.\n",
    "\n",
    "## Injecting Words into the Summary\n",
    "\n",
    "The words we want inserted will come in a list.  The model will decide on the best place to put them."
   ]
  },
  {
   "cell_type": "code",
   "execution_count": 8,
   "metadata": {},
   "outputs": [
    {
     "name": "stdout",
     "output_type": "stream",
     "text": [
      "[[' Denmark ', ' Ukraine ', ' Russia '], [' Germany ', ' European Union ', ' sanctions ', ' Russia '], [' Starbucks ', ' Russia ', ' employees ']]\n"
     ]
    }
   ],
   "source": [
    "force_words = [\n",
    "    [\"Denmark\", \"Ukraine\", \"Russia\"],\n",
    "    [\"Germany\", \"European Union\", \"sanctions\", \"Russia\"],\n",
    "    [\"Starbucks\", \"Russia\", \"employees\"],\n",
    "]\n",
    "force_words = [[\" \" + str(w) + \" \" for w in wl] for wl in force_words]\n",
    "print(force_words)"
   ]
  },
  {
   "cell_type": "code",
   "execution_count": 9,
   "metadata": {},
   "outputs": [
    {
     "name": "stdout",
     "output_type": "stream",
     "text": [
      "----------\n",
      "News Article Summary\n",
      "\n",
      "XSUM Summary:\n",
      "The Ukraine Contact Group is a Russia  in Ukraine  Denmark, and the Russian military has been involved on its own - but it's not yet to be an official or even fully funded for their defence. (as they are) 'the first time.'' at this meeting...'. \"I Denmark \n",
      "CNN Summary:\n",
      " The Ukraine Contact Group has been Russia-Ukraine Denmark  since 2007. 'I'm not a military or safety for the first time' says Austin, Texas and other officials from Kiev. \"We will be able to get back together\" A total of 47 countries participated in contact with troops on Ukrainian border country's borders (with Moscow)). Officials say they have signed off at least 20% more than 100 million people during their visit abroad where it is now known as Washington DC – - I would like us! We are also interested about bringing up our own weapons arsenal against this project without an individual person who sent them into danger’s ‘dangerous zone,' said one Ukraine  Russia \n",
      "----------\n",
      "News Article Summary\n",
      "\n",
      "XSUM Summary:\n",
      " The European Union has sanctions against Russia, and the Russian government is Germany's European Union  for its response to a crisis. in Ukraine - but it was not an accident that will be seen as being under their own rules or even if they are going through some of those who have been sanctions  Russia \n",
      "CNN Summary:\n",
      " sanctions  Russia's European Union. Habeck said Germany and Ukraine could be a source for energy, not just the oil industry of power. The president was also speaking at an auction to see if they will give their plans in order or face it again - he says 'nothing is being called' He spoke about how many people have been hit by accidents with his country as well over Poland on its own side when there are concerns that this would happen soon after we do our best jobs here.' CNN reports say \"a recession\" has led us into more than one billion dollars per cent.\" It comes from below-down images online... without taking home! Website: http://wwwkcal Russia \n",
      "----------\n",
      "News Article Summary\n",
      "\n",
      "XSUM Summary:\n",
      "The Starbucks has been in Russia for the past five years Starbucks  Russia  employees have decided to close their operations. and it is not a good enough situation, says an official news site on its Facebook website - but that will never be allowed out of our own stores or coffee shops... (that employees \n",
      "CNN Summary:\n",
      " Starbucks says it has exited Russia. The company is closing Starbucks  to employees of the industry, and will be released from a press conference in Moscow. It's not clear if there are any plans for coming up with its stores at risk when they do more than one billion dollars per cent on free retail projects or other costs associated around $1 million each store online last year (RVP)). This week as part an increase I would have been removed by customers like McDonald’s Stores Storey Wallets also added: \"I'm just giving us all\" Aims Took into this area where we're going back together\". We'll try further information about how much money Russia  employees \n"
     ]
    }
   ],
   "source": [
    "for article_id, article in enumerate(articles):\n",
    "    print(\"----------\\nNews Article Summary\\n\")\n",
    "    \n",
    "    input_ids = bart_xsum_tokenizer(article, return_tensors=\"pt\").input_ids\n",
    "    force_words_ids = bart_xsum_tokenizer(force_words[article_id], add_special_tokens=False).input_ids\n",
    "\n",
    "    outputs = bart_xsum_model_quantized.generate(\n",
    "        input_ids,\n",
    "        force_words_ids=force_words_ids,\n",
    "        num_beams=5,\n",
    "        num_return_sequences=1,\n",
    "        no_repeat_ngram_size=1,\n",
    "        remove_invalid_values=True,\n",
    "    )\n",
    "    print(f\"XSUM Summary:\\n{bart_xsum_tokenizer.decode(outputs[0], skip_special_tokens=True)}\")\n",
    "\n",
    "    input_ids = bart_cnn_tokenizer(article, return_tensors=\"pt\").input_ids\n",
    "    force_words_ids = bart_cnn_tokenizer(force_words[article_id], add_special_tokens=False).input_ids\n",
    "\n",
    "    outputs = bart_cnn_model_quantized.generate(\n",
    "        input_ids,\n",
    "        force_words_ids=force_words_ids,\n",
    "        num_beams=5,\n",
    "        num_return_sequences=1,\n",
    "        no_repeat_ngram_size=1,\n",
    "        remove_invalid_values=True,\n",
    "    )\n",
    "    print(f\"CNN Summary:\\n{bart_cnn_tokenizer.decode(outputs[0], skip_special_tokens=True)}\")\n"
   ]
  },
  {
   "cell_type": "markdown",
   "metadata": {},
   "source": [
    "## Including Start Words\n",
    "\n",
    "If you know that you want the summary to begin a certain way, you could enforce start words.  More abstractly, you could define a template that you want the summary to follow.  Unfortunately, that is not possible at this time.\n",
    "\n",
    "I looked into adding start words.  It seems that this code (https://github.com/huggingface/transformers/blob/518bd02c9b71291333ef374f055a4d1ac3042654/src/transformers/generation_beam_search.py#L389) could be edited to enforce every beam to begin with the tokens you specify, and that would ensure that the beam search results in a summary that begins with your words.  However, it would take me a long time to implement in HuggingFace's source code.  Also, it would be difficult to ensure that only the first sentence in  the summary started with those words.  To implement start words, you would pretty much have to implement the entire template feature mentioned in their blog post.\n",
    "\n",
    "## Returning Multiple Beams\n",
    "\n",
    "Below I will experiment with the number of repeating n_grams and return multiple beams to see how they differ."
   ]
  },
  {
   "cell_type": "code",
   "execution_count": 10,
   "metadata": {},
   "outputs": [
    {
     "name": "stdout",
     "output_type": "stream",
     "text": [
      "----------\n",
      "News Article Summary\n",
      "\n",
      "XSUM Summaries:\n",
      "\n",
      "The first meeting of the Ukraine Contact Group has been held in Brussels. \n",
      "\n",
      "The first meeting of the Ukraine Contact Group has been held in the UK. \n",
      "\n",
      "The first meeting of the Ukraine Contact Group has been held in the Czech Republic. \n",
      "\n",
      "CNN Summaries: \n",
      "\n",
      " U.S. Secretary of Defense said at the conclusion of the second meeting of the Ukraine Contact Group. 'I will convene the Contact Group for our third meeting,' said Austin. 'We will be able to keep up the tempo of these meetings,' says Austin, Texas. \n",
      "\n",
      " U.S. Secretary of Defense said at the conclusion of the second meeting of the Ukraine Contact Group. 'I will convene the Contact Group for our third meeting,' said Austin. 'We will be able to keep up the tempo of these meetings,' says Austin. 'I would have to do it' \n",
      "\n",
      " U.S. Secretary of Defense said at the conclusion of the second meeting of the Ukraine Contact Group. 'I will convene the Contact Group for our third meeting,' said Austin. 'We will be able to keep up the tempo of these meetings,' says Austin. 'I would have to do this' \n",
      "\n",
      "----------\n",
      "News Article Summary\n",
      "\n",
      "XSUM Summaries:\n",
      "\n",
      " The Russian energy industry has been affected by the crisis over the crisis, which has led to the collapse of the Russian economy. \n",
      "\n",
      " The Russian energy industry has been affected by the crisis over the crisis, which has led to the crisis. \n",
      "\n",
      " The Russian energy industry has been affected by the crisis over the crisis, which has led to the crisis in the European Union. \n",
      "\n",
      "CNN Summaries: \n",
      "\n",
      " Habeabeck insisted that 'nothing is inevitable' He also spoke to CNN about the effects of the war in Ukraine. Habeck said he was confident that a deal could be reached within days. He said he will be able to find a solution to the problem. \n",
      "\n",
      " Habeabeck insisted that 'nothing is inevitable' He also spoke to CNN about the effects of the war in Ukraine. Habeck said he was confident that a deal could be reached within days. He said he will be able to find a solution for the project. \n",
      "\n",
      " Habeabeck insisted that 'nothing is inevitable' He also spoke to CNN about the effects of the war in Ukraine. Habeck said he was confident that a deal could be reached within days. He said he will be able to find a solution for a solution. \n",
      "\n",
      "----------\n",
      "News Article Summary\n",
      "\n",
      "XSUM Summaries:\n",
      "\n",
      " The Starbucks has been in Russia for the past five years. \n",
      "\n",
      " The Starbucks has been in Russia for the past two years. \n",
      "\n",
      " The Starbucks has announced that it has closed the doors of Russia. \n",
      "\n",
      "CNN Summaries: \n",
      "\n",
      " The company says it has been operating in Russia for 15 years. Starbucks says it will no longer have a presence in the country. Starbucks has been serving as a coffee shop shop in Russia. The coffee company says the company has a history history of operations. Starbucks is also set to be released on the site. \n",
      "\n",
      " The company says it has been operating in Russia for 15 years. Starbucks says it will no longer have a presence in the country. Starbucks has been serving as a coffee shop shop in Russia. The coffee company says the company has a history history of operations. Starbucks is also set to be released from the news. \n",
      "\n",
      " The company says it has been operating in Russia for 15 years. Starbucks says it will no longer have a presence in the country. Starbucks has been serving as a coffee shop shop in Russia. The coffee company says the company has a history history of operations. Starbucks is also set to be released by Starbucks. \n",
      "\n"
     ]
    }
   ],
   "source": [
    "for article_id, article in enumerate(articles):\n",
    "    print(\"----------\\nNews Article Summary\\n\")\n",
    "    \n",
    "    input_ids = bart_xsum_tokenizer(article, return_tensors=\"pt\").input_ids\n",
    "    force_words_ids = bart_xsum_tokenizer(force_words[article_id], add_special_tokens=False).input_ids\n",
    "\n",
    "    outputs = bart_xsum_model_quantized.generate(\n",
    "        input_ids,\n",
    "        num_beams=5,\n",
    "        num_return_sequences=3,\n",
    "        no_repeat_ngram_size=3,\n",
    "        remove_invalid_values=True,\n",
    "    )\n",
    "    print(\"XSUM Summaries:\\n\")\n",
    "    for i in outputs:\n",
    "        print(bart_xsum_tokenizer.decode(i, skip_special_tokens=True), \"\\n\")\n",
    "\n",
    "    input_ids = bart_cnn_tokenizer(article, return_tensors=\"pt\").input_ids\n",
    "    force_words_ids = bart_cnn_tokenizer(force_words[article_id], add_special_tokens=False).input_ids\n",
    "\n",
    "    outputs = bart_cnn_model_quantized.generate(\n",
    "        input_ids,\n",
    "        num_beams=5,\n",
    "        num_return_sequences=3,\n",
    "        no_repeat_ngram_size=3,\n",
    "        remove_invalid_values=True,\n",
    "    )\n",
    "    print(\"CNN Summaries: \\n\")\n",
    "    for i in outputs:\n",
    "        print(bart_cnn_tokenizer.decode(i, skip_special_tokens=True), \"\\n\")\n"
   ]
  },
  {
   "cell_type": "markdown",
   "metadata": {},
   "source": [
    "# Summarizing by Paragraph\n",
    "\n",
    "I wondered how the summaries would change if they were given fewer sentences.  Here I will segment the documents by sentence, group the sentences by a certain number to simulate paragraphs, and summarize the paragraphs."
   ]
  },
  {
   "cell_type": "code",
   "execution_count": 11,
   "metadata": {},
   "outputs": [],
   "source": [
    "def grouper(iterable, n, fillvalue=None):\n",
    "    \"Collect data into fixed-length chunks or blocks\"\n",
    "    args = [iter(iterable)] * n\n",
    "    return zip_longest(*args, fillvalue=fillvalue)"
   ]
  },
  {
   "cell_type": "code",
   "execution_count": 12,
   "metadata": {},
   "outputs": [
    {
     "name": "stdout",
     "output_type": "stream",
     "text": [
      "----------\n",
      "News Article Summary\n",
      "\n",
      "----------\n",
      "News Article Paragraph 1 of 3\n",
      "\n",
      "XSUM Summaries:\n",
      "\n",
      " The BBC has been following a series of news stories from the UK and other countries in Ukraine, which will be followed by an emergency meeting on Monday.The first time they have met with their own members to discuss what is being put up for this year's fight against Russia - its European Union (EU \n",
      "\n",
      "CNN Summaries: \n",
      "\n",
      " Denmark has agreed to send'substantial' support for Ukraine. The second contact group meeting was held by the Czech Republic, who also sent a report on Russia's national security. It is not clear that it will be used in any country where or at least one of these countries are known as an anti-Russian attack site last year and more than 100 million people have spent their lives fighting against each other so they can get into danger from being hit with missiles like this would make him feel safe if you don’t do your own name? Send us all good news live online! Check out here: http://www resealcandallyourhopes/videoport \n",
      "\n",
      "----------\n",
      "News Article Paragraph 2 of 3\n",
      "\n",
      "XSUM Summaries:\n",
      "\n",
      "Austin Austin has said that the Ukrainian military is in a position to defend Ukraine and its allies, who have been fighting with their own forces for several years after they were forced out of an army-backed war on two occasions - but it was not too strong enough at this time when there are many other \n",
      "\n",
      "CNN Summaries: \n",
      "\n",
      " Austin said, 'donning attention' to the situation. The meeting was held at a cost of $1 million in exchange for more than two billion dollars per cent. It's not clear if there will be an official call from Russia or Ukraine’s military bases where it is known as among those who have been hit by war on drugs and other people fighting against each side when they could do their own lives? If you think that he says: \"I'm just doing this today I would give up your hands\" To help anyone with information about what sources say are helping us get into public health care.\" A single-page pageant video project called “reduce [sic] \n",
      "\n",
      "----------\n",
      "News Article Paragraph 3 of 3\n",
      "\n",
      "XSUM Summaries:\n",
      "\n",
      "In the name, I'm in a fight with my fellow colleagues to find out what it will be after this year's European Union (EU) - and how many people have been affected by an issue that is now being brought back into our minds as they are on their own '' when we get \n",
      "\n",
      "CNN Summaries: \n",
      "\n",
      " 'I will always be able to get into the air, and it's not clear if there is a call for more information. The idea of an open-listed organization organisation in Washington D.C., says I'm sure that we should have known as \"The NATO\" or at least one person who would like us (for example) A report from here: http://www resealadomberkillsilln@tamerincommodation/capitalwestweddingsairedmctivisiusstamoratoratorship on his website iReportare @callsalletescofascatrelgrouping together with some people \n",
      "\n",
      "----------\n",
      "News Article Summary\n",
      "\n",
      "----------\n",
      "News Article Paragraph 1 of 4\n",
      "\n",
      "XSUM Summaries:\n",
      "\n",
      " The world's most important political leader has said that the recession is not going to be in any way, and there are no consequences for those who have been affected by an economic downturn on their own or a war with Russia. (as they were) at least two years ago - but it was never \n",
      "\n",
      "CNN Summaries: \n",
      "\n",
      " Speaking to Julia Chatterley at the World Economic Forum in Davos. He said he was confident that a deal would be done within days of coming up with an oil embargo, and says it is 'nothing nothing' Germany's vice-Chancellor told CNN: \"We are human beings. And I'm not always going forward\" The news for more information about what sources say will help us get into trouble? Send you on Facebook! Share your thoughts from this story or go @carladefood@tldm4p/cliffifundus$1 million per cent if they find their way through online social media sites http://wwwkallicorjiv \n",
      "\n",
      "----------\n",
      "News Article Paragraph 2 of 4\n",
      "\n",
      "XSUM Summaries:\n",
      "\n",
      "The Russian energy industry is in the midst of a crisis over Russia, but it has not been under pressure to deal with its own resources and their economic interests - which will be very difficult for any European Union's leaders as they are currently on an emergency call from Moscow itself. Â£25 million \n",
      "\n",
      "CNN Summaries: \n",
      "\n",
      " Habeck also discussed Germany's dependence on Russian gas. German companies would pay for the energy, saying: \"I will always be able to reach a price of $1.5 million per cent\" He insisted that any such moves were approved by EU Commissioners and other agencies involved in an investigation into why Russia’s oil-fills are not working together or at least one pointpoint when it comes with more than 100 billion dollars off from this year (see see http://wwwkallsalla). Visit CNN iReport if you're doing so? Send your pictures online here...hopefully! varsity school students' dream dreams about what I'm really good health insurance \n",
      "\n",
      "----------\n",
      "News Article Paragraph 3 of 4\n",
      "\n",
      "XSUM Summaries:\n",
      "\n",
      " The Russian government has said that Russia is the first \"Russian\" in a number of years, and it's not going to make any more money for its own private property or their bank account as they have been taken over by an insurance company which will be called 'Russia' - but there are no \n",
      "\n",
      "CNN Summaries: \n",
      "\n",
      " Russia's President Vladimir Putin said in March that 'unfriendly' nations would have to pay rubles. Buyers could make $1.7 million or more for the benefit of a new project, which will be released on November 25th - not always known as an anti-Gazprom site where it has been given away at least 20%. More information about how much work is being done by energy and less than one billion dollars per person I am currently working together? Call your head office if you’ve ever got into contact with any individuals who want them fired from this group (in China) The White House says: \"I just like these people\" A single point out why \n",
      "\n",
      "----------\n",
      "News Article Paragraph 4 of 4\n",
      "\n",
      "XSUM Summaries:\n",
      "\n",
      "Some of the gas and oil companies have been in a battle with their own energy suppliers over what they are doing to prevent them from being affected by Russian sanctions, but it is not too good for any other company that will be looking at its money as an \"outrageous\" or 'disgr \n",
      "\n",
      "CNN Summaries: \n",
      "\n",
      " Other European companies have reported that they are working to help pay for Russian gas. The company says it's not breaking the law, but also has a history of being put up in Russia and other non-Russian energy. It is unclear whether there will be an official sanctionable ban on any country’s Gas Companies say their work was done with some people at risk from businesses like this would make him feel better known by more than 100 million dollars per person I am currently doing so? If you or anyone who do your best! Send us here: http://www resealallogurenn@tchwldladegernadennst online/videohop \n",
      "\n",
      "----------\n",
      "News Article Summary\n",
      "\n",
      "----------\n",
      "News Article Paragraph 1 of 2\n",
      "\n",
      "XSUM Summaries:\n",
      "\n",
      " The Starbucks has announced that it will withdraw the company from Russia, in a move to reduce its presence and increase their number of cafes.The coffee companies have been closed down for five years - not so much because they are being used by an organisation which is involved on social media (the Coffee Company). \n",
      "\n",
      "CNN Summaries: \n",
      "\n",
      " The coffee company has been operating in Russia for 15 years. Starbucks says it will be completely out of the country, and there are no plans to do a lot more jobs per cent. It is also being held at an open-air public office on Friday night (Thursday)). Cuppers: \"Coffee's\"... I'm not working together with other companies like McDonald’s' $1 million bill that was released from hospital where they were last seen as temporary workers who have spent their lives.\" A team announced this morning when reports say he would lose his entire family life - or if you don't get into trouble? Call your home! For all about 1/10 \n",
      "\n",
      "----------\n",
      "News Article Paragraph 2 of 2\n",
      "\n",
      "XSUM Summaries:\n",
      "\n",
      "Starbucks has announced that it will be the first Starbucks in a few years, with an increase of 10% to $1.5 million for its employees who are working on their own coffee and drink drinking at cafes or cafÃ¡ sâ€™s (as well as other stores). \n",
      "\n",
      "CNN Summaries: \n",
      "\n",
      " Starbucks says it will'support' its workers in Russia. Starbucks has been announced as a result of the activity, which is just over 100 per cent more than one billion dollars. It's not clear if you're going to be released for free or at least two million people who have spent their lives together since last year were given away from coffee shop windows and other stores where they can't get them into an open-air flushing spot spots on social network networks (with tips tip off) More information about how effective this past? Call James McDonald’s actions are provided by ‘reduce [sic]]. This would help us find out what I am currently doing with our \n",
      "\n"
     ]
    }
   ],
   "source": [
    "for article_id, article in enumerate(articles):\n",
    "    sents = [sent for paragraph in segmenter.analyze(article) for sent in paragraph]\n",
    "    sents = [(''.join(str(t) for t in s).strip()) for s in sents]\n",
    "    print(\"----------\\nNews Article Summary\\n\")\n",
    "    \n",
    "    pg = 1\n",
    "    sents_per_paragraph = 3\n",
    "    for grouped in grouper(sents, sents_per_paragraph):\n",
    "        grouped_sents = \" \".join([g for g in grouped if g is not None])\n",
    "\n",
    "        print(f\"----------\\nNews Article Paragraph {pg} of {math.ceil(len(sents) / sents_per_paragraph)}\\n\")\n",
    "        pg += 1\n",
    "\n",
    "        input_ids = bart_xsum_tokenizer(grouped_sents, return_tensors=\"pt\").input_ids\n",
    "\n",
    "        outputs = bart_xsum_model_quantized.generate(\n",
    "            input_ids,\n",
    "            num_beams=5,\n",
    "            num_return_sequences=1,\n",
    "            no_repeat_ngram_size=1,\n",
    "            remove_invalid_values=True,\n",
    "        )\n",
    "        print(\"XSUM Summaries:\\n\")\n",
    "        for i in outputs:\n",
    "            print(bart_xsum_tokenizer.decode(i, skip_special_tokens=True), \"\\n\")\n",
    "\n",
    "        input_ids = bart_cnn_tokenizer(grouped_sents, return_tensors=\"pt\").input_ids\n",
    "\n",
    "        outputs = bart_cnn_model_quantized.generate(\n",
    "            input_ids,\n",
    "            num_beams=5,\n",
    "            num_return_sequences=1,\n",
    "            no_repeat_ngram_size=1,\n",
    "            remove_invalid_values=True,\n",
    "        )\n",
    "        print(\"CNN Summaries: \\n\")\n",
    "        for i in outputs:\n",
    "            print(bart_cnn_tokenizer.decode(i, skip_special_tokens=True), \"\\n\")\n"
   ]
  },
  {
   "cell_type": "markdown",
   "metadata": {},
   "source": [
    "# Conclusions\n",
    "\n",
    "Constrained beam search tends to make the summaries worse.  They read better when the model is allowed to generate the summary without influence.  \n",
    "\n",
    "Summaries are not guaranteed to have correct information.  Sometimes they make no sense.  Other times they directly contradict the original text.\n",
    "\n",
    "The summaries seem to get worse with fewer sentences, partly because the model starts predicting words from outside the domain of the article.  Paragraph level summarization is likely not feasible at this time.  \n",
    "\n",
    "## What HuggingFace Has to Say\n",
    "\n",
    "Currently HuggingFace has no extractive summarization models.  There are open feature requests for them, and the consensus is that abstractive summarizers are too risky to use in production, because they can produce sentences that do not make sense or are blatently false.  \n",
    "\n",
    "https://github.com/huggingface/transformers/issues/4332\n",
    "\n",
    "https://github.com/huggingface/transformers/issues/12460"
   ]
  },
  {
   "cell_type": "markdown",
   "metadata": {},
   "source": [
    "----------------"
   ]
  },
  {
   "cell_type": "markdown",
   "metadata": {},
   "source": [
    "# Overview\n",
    "\n",
    "## Extractive Summarization Models\n",
    "\n",
    "At the time of this notebook, there are several state of the art extractive summarization models.  They are evaluated using Rouge scores: R1, R2, RL.  The current leader is MatchSum, and its code is available here: https://github.com/maszhongming/MatchSum.  MatchSum does not have a ready-to-run form though, so there are 2 other models shown for comparison that do have ready-to-run forms, where they can simply be downloaded and called in a library.  \n",
    "\n",
    "| Model | R1 | R2 | RL | Model Size (Mb) |\n",
    "| --- | --- | --- | --- | --- |\n",
    "| MatchSum (RoBERTa-base) | 44.41 | 20.86 | 40.55 | 816 |\n",
    "| Distil-RoBERTa | 42.87 | 20.02 | 39.31 | 935 |\n",
    "| Mobile BERT | 42.01 | 19.31 | 38.53 | 282 |\n",
    "\n",
    "There are larger versions of RoBERTA and BERT, but the distilled and mobile versions are smaller, faster, and have comparable Rouge scores.  So I have chosen to focus on Mobile BERT in this notebook.  Their Rouge scores came from: https://transformersum.readthedocs.io/en/latest/extractive/models-results.html.  \n",
    "\n",
    "Rouge score explanation: https://www.freecodecamp.org/news/what-is-rouge-and-how-it-works-for-evaluation-of-summaries-e059fb8ac840/\n",
    "\n",
    "## Mobile BERT\n",
    "\n",
    "Mobile BERT comes from the TransformerSum package, which can be found here: https://github.com/HHousen/TransformerSum.  It is designed to run like a HuggingFace model.  It was trained on the following datasets:\n",
    "\n",
    "* CNN/DailyMail - Dataset of news articles.  The summaries in this dataset resemble the source sentences and extractive summarization models perform well here. \n",
    "\n",
    "### Model Speed\n",
    "\n",
    "Whereas distil BERT compresses by reducing model depth, mobile BERT compresses by reducing model width.  Both methods result in faster inference.  Since these models will be used in production environments, inference speed is important. \n",
    "\n",
    "Dynamic quantization can be used to further reduce the model size and increase inference speed.  Pytorch makes this extremely simple with a 1-liner.  Quantization compresses the weights of a pre-trained model without much impact to model performance.  See an example with Pytorch here: https://pytorch.org/tutorials/intermediate/dynamic_quantization_bert_tutorial.html.\n",
    "\n",
    "# Preparing the Model\n",
    "\n",
    "I pulled the transformersum package's src folder from: https://github.com/HHousen/TransformerSum/tree/master/src, copied it into the directory with this notebook, and renamed it to transformersum, because there is no way to easily install it with pip.  Then I downloaded the model checkpoint from https://transformersum.readthedocs.io/en/latest/extractive/models-results.html#pretrained-ext and saved it to the models/mobile_bert_extr folder.  "
   ]
  },
  {
   "cell_type": "code",
   "execution_count": 13,
   "metadata": {},
   "outputs": [
    {
     "name": "stdout",
     "output_type": "stream",
     "text": [
      "huggingface/tokenizers: The current process just got forked, after parallelism has already been used. Disabling parallelism to avoid deadlocks...\n",
      "To disable this warning, you can either:\n",
      "\t- Avoid using `tokenizers` before the fork if possible\n",
      "\t- Explicitly set the environment variable TOKENIZERS_PARALLELISM=(true | false)\n",
      "huggingface/tokenizers: The current process just got forked, after parallelism has already been used. Disabling parallelism to avoid deadlocks...\n",
      "To disable this warning, you can either:\n",
      "\t- Avoid using `tokenizers` before the fork if possible\n",
      "\t- Explicitly set the environment variable TOKENIZERS_PARALLELISM=(true | false)\n"
     ]
    }
   ],
   "source": [
    "from transformersum.extractive import ExtractiveSummarizer"
   ]
  },
  {
   "cell_type": "code",
   "execution_count": 14,
   "metadata": {},
   "outputs": [
    {
     "name": "stderr",
     "output_type": "stream",
     "text": [
      "/Users/nicholaslincoln/opt/anaconda3/envs/transformersum/lib/python3.10/site-packages/pytorch_lightning/core/saving.py:213: UserWarning: Found keys that are in the model state dict but not in the checkpoint: ['word_embedding_model.embeddings.position_ids']\n",
      "  rank_zero_warn(\n"
     ]
    }
   ],
   "source": [
    "model = ExtractiveSummarizer.load_from_checkpoint(\"models/mobile_bert_extr/epoch=3.ckpt\", strict=False)"
   ]
  },
  {
   "cell_type": "code",
   "execution_count": 15,
   "metadata": {},
   "outputs": [],
   "source": [
    "articles = [\n",
    "    (\"Denmark has agreed to provide Ukraine with a Harpoon launcher and missiles to 'help Ukraine defend its coast',\"\n",
    "     \"US Secretary of Defense Lloyd Austin said at the conclusion of the second Ukraine Contact Group meeting hosted\"\n",
    "     \"by Austin on Monday. The second contact group meeting was held virtually. \"\n",
    "     \"The Czech Republic also agreed to send 'substantial support' to Ukraine including 'a recent donation of attack \"\n",
    "     \"helicopters, tanks and rocket systems,' Austin said at a press conference at the conclusion of the meeting.\"\n",
    "     \"Overall, 20 countries 'announced new security assistance packages,' after the meeting, Austin said, including \"\n",
    "     \"'donating critically needed artillery ammunition, coastal defense systems and tanks and other armored vehicles.'\"\n",
    "     \"'Others came forward with new commitments for training Ukraine’s forces and sustaining its military systems,' \"\n",
    "     \"Austin added. \"\n",
    "     \"A total of 47 countries participated in the contact group’s second meeting, Chairman of the Joint Chiefs of \"\n",
    "     \"Staff Gen. Mark Milley said.\"\n",
    "     \"Secretary Austin will host the third meeting of the Ukraine Contact Group in person in Brussels on June 15, \"\n",
    "     \"Austin said at the conclusion of the second virtual meeting of the contact group Monday. \"\n",
    "     \"'I will convene the Contact Group for our third meeting next month and will gather in person this time, on \"\n",
    "     \"June 15, in the margins of the NATO defense ministerial in Brussels,' Austin said. 'Of course, it won't be a \"\n",
    "     \"NATO event, but we want to keep up the, up, keep up the tempo of these meetings and I wanted to use my travel \"\n",
    "     \"to Europe to ensure that we're building on our momentum.'\"\n",
    "    ),\n",
    "    (\"Germany's vice chancellor and economy minister told CNN a recession is not inevitable. \"\n",
    "     \"Speaking to CNN's Julia Chatterley at the World Economic Forum in Davos, Robert Habeck insisted that \"\n",
    "     \"'nothing is inevitable, we are human beings and can change the course of history.'\"\n",
    "     \"He also spoke to CNN about the war in Ukraine and Europe’s efforts to lessen dependence on Russian energy. \"\n",
    "     \"Asked whether the European Union could reach an agreement on the next round of sanctions, including an oil \"\n",
    "     \"embargo, he said he was confident a deal could be reached and could be done within days.\"\n",
    "     \"'I expect everyone — also Hungary — that they work to find a solution and not saying 'OK we have an exception \"\n",
    "     \"and then we will lay back and build on our partnership with Putin,' he said while speaking earlier on a panel \"\n",
    "     \"at Davos.\"\n",
    "     \"Habeck also discussed Germany’s dependence on Russian gas, saying German industry would collapse without \"\n",
    "     \"Russian energy. Asked whether Germany would pay for Russian gas in rubles, Habeck said that German companies \"\n",
    "     \"would pay for gas in euros, if Russia then decided to exchange those euros into rubles, it was a 'face saving' \"\n",
    "     \"measure for Putin.\"\n",
    "     \"He insisted that any such moves were approved by the EU Commission and did not break sanctions.\"\n",
    "     \"More background: Russian President Vladimir Putin said in March that 'unfriendly' nations would have to pay \"\n",
    "     \"rubles, rather than the euros or dollars stated in contracts. Buyers could make euro or dollar payments into \"\n",
    "     \"an account at Russia's Gazprombank, which would then convert the funds into rubles and transfer them to a \"\n",
    "     \"second account from which the payment to Russia would be made.\"\n",
    "     \"Gas supplies to Poland and Bulgaria were cut off, after they refused to pay in rubles. Other big European \"\n",
    "     \"gas companies have told CNN they are working on ways to pay for Russian gas, while not breaking EU sanctions.\"\n",
    "    ),\n",
    "    (\"Coffee giant Starbucks says it has exited Russia and will no longer have a brand presence there, according \"\n",
    "     \"to a press release on Monday. \"\n",
    "     \"The coffee company says it has been operating in Russia for 15 years and has now closed its 130 licensed \"\n",
    "     \"cafes in the country. Starbucks joins other companies like McDonald’s and Exxon Mobil in taking its business \"\n",
    "     \"completely out of Russia. \"\n",
    "     \"Starbucks says it will 'support' its nearly 2,000 workers in Russia, including pay for six months and \"\n",
    "     \"assistance for partners to transition to new opportunities outside of Starbucks. \"\n",
    "     \"This comes after Starbucks CEO Kevin Johnson said in March that it had suspended all business activity in \"\n",
    "     \"Russia, including shipment of all Starbucks products. \"\n",
    "    ),\n",
    "]"
   ]
  },
  {
   "cell_type": "code",
   "execution_count": 16,
   "metadata": {},
   "outputs": [
    {
     "name": "stdout",
     "output_type": "stream",
     "text": [
      "----------\n",
      "News Article Summary\n",
      "\n",
      "Mobile BERT Extractive Summary:\n",
      "The Czech Republic also agreed to send ' substantial support ' to Ukraine including ' a recent donation of attack helicopters , tanks and rocket systems , ' Austin said at a press conference at the conclusion of the meeting. A total of 47 countries participated in the contact group ’s second meeting , Chairman of the Joint Chiefs of Staff Gen. Mark Milley said. Secretary Austin will host the third meeting of the Ukraine Contact Group in person in Brussels on June 15 , Austin said at the conclusion of the second virtual meeting of the contact group Monday '.\n",
      "----------\n",
      "News Article Summary\n",
      "\n",
      "Mobile BERT Extractive Summary:\n",
      "Speaking to CNN 's Julia Chatterley at the World Economic Forum in Davos , Robert Habeck insisted that ' nothing is inevitable , we are human beings and can change the course of history. 'He also spoke to CNN about the war in Ukraine and Europe ’s efforts to lessen dependence on Russian energy. Habeck also discussed Germany ’s dependence on Russian gas , saying German industry would collapse without Russian energy.\n",
      "----------\n",
      "News Article Summary\n",
      "\n",
      "Mobile BERT Extractive Summary:\n",
      "The coffee company says it has been operating in Russia for 15 years and has now closed its 130 licensed cafes in the country. Starbucks joins other companies like McDonald ’s and Exxon Mobil in taking its business completely out of Russia. Starbucks says it will ' support ' its nearly 2,000 workers in Russia , including pay for six months and assistance for partners to transition to new opportunities outside of Starbucks.\n"
     ]
    }
   ],
   "source": [
    "for article in articles:\n",
    "    print(\"----------\\nNews Article Summary\\n\")\n",
    "    print(f\"Mobile BERT Extractive Summary:\\n{model.predict(article, num_summary_sentences=3)}\")"
   ]
  },
  {
   "cell_type": "code",
   "execution_count": 17,
   "metadata": {},
   "outputs": [
    {
     "name": "stdout",
     "output_type": "stream",
     "text": [
      "----------\n",
      "News Article Summary\n",
      "\n",
      "Mobile BERT Extractive Summary:\n",
      "The Czech Republic also agreed to send ' substantial support ' to Ukraine including ' a recent donation of attack helicopters , tanks and rocket systems , ' Austin said at a press conference at the conclusion of the meeting. Secretary Austin will host the third meeting of the Ukraine Contact Group in person in Brussels on June 15 , Austin said at the conclusion of the second virtual meeting of the contact group Monday '.\n",
      "----------\n",
      "News Article Summary\n",
      "\n",
      "Mobile BERT Extractive Summary:\n",
      "Speaking to CNN 's Julia Chatterley at the World Economic Forum in Davos , Robert Habeck insisted that ' nothing is inevitable , we are human beings and can change the course of history. 'He also spoke to CNN about the war in Ukraine and Europe ’s efforts to lessen dependence on Russian energy.\n",
      "----------\n",
      "News Article Summary\n",
      "\n",
      "Mobile BERT Extractive Summary:\n",
      "The coffee company says it has been operating in Russia for 15 years and has now closed its 130 licensed cafes in the country. Starbucks says it will ' support ' its nearly 2,000 workers in Russia , including pay for six months and assistance for partners to transition to new opportunities outside of Starbucks.\n"
     ]
    }
   ],
   "source": [
    "for article in articles:\n",
    "    print(\"----------\\nNews Article Summary\\n\")\n",
    "    print(f\"Mobile BERT Extractive Summary:\\n{model.predict(article, num_summary_sentences=2)}\")"
   ]
  },
  {
   "cell_type": "markdown",
   "metadata": {},
   "source": [
    "# Summarizing by Paragraph\n",
    "\n",
    "I wondered how the summaries would change if they were given fewer sentences.  Here I will segment the documents by sentence, group the sentences by a certain number to simulate paragraphs, and summarize the paragraphs."
   ]
  },
  {
   "cell_type": "code",
   "execution_count": 18,
   "metadata": {},
   "outputs": [],
   "source": [
    "def grouper(iterable, n, fillvalue=None):\n",
    "    \"Collect data into fixed-length chunks or blocks\"\n",
    "    args = [iter(iterable)] * n\n",
    "    return zip_longest(*args, fillvalue=fillvalue)"
   ]
  },
  {
   "cell_type": "code",
   "execution_count": 19,
   "metadata": {},
   "outputs": [
    {
     "name": "stdout",
     "output_type": "stream",
     "text": [
      "----------\n",
      "News Article Summary\n",
      "\n",
      "----------\n",
      "News Article Paragraph 1 of 2\n",
      "\n",
      "Mobile BERT Extractive Summary:\n",
      "The second contact group meeting was held virtually. The Czech Republic also agreed to send ' substantial support ' to Ukraine including ' a recent donation of attack helicopters , tanks and rocket systems , ' Austin said at a press conference at the conclusion of the meeting.\n",
      "----------\n",
      "News Article Paragraph 2 of 2\n",
      "\n",
      "Mobile BERT Extractive Summary:\n",
      "Secretary Austin will host the third meeting of the Ukraine Contact Group in person in Brussels on June 15 , Austin said at the conclusion of the second virtual meeting of the contact group Monday '. I will convene the Contact Group for our third meeting next month and will gather in person this time , on June 15 , in the margins of the NATO defense ministerial in Brussels , ' Austin said '.\n",
      "----------\n",
      "News Article Summary\n",
      "\n",
      "----------\n",
      "News Article Paragraph 1 of 3\n",
      "\n",
      "Mobile BERT Extractive Summary:\n",
      "Speaking to CNN 's Julia Chatterley at the World Economic Forum in Davos , Robert Habeck insisted that ' nothing is inevitable , we are human beings and can change the course of history. 'He also spoke to CNN about the war in Ukraine and Europe ’s efforts to lessen dependence on Russian energy.\n",
      "----------\n",
      "News Article Paragraph 2 of 3\n",
      "\n",
      "Mobile BERT Extractive Summary:\n",
      "More background : Russian President Vladimir Putin said in March that ' unfriendly ' nations would have to pay rubles , rather than the euros or dollars stated in contracts. Buyers could make euro or dollar payments into an account at Russia 's Gazprombank , which would then convert the funds into rubles and transfer them to a second account from which the payment to Russia would be made.\n",
      "----------\n",
      "News Article Paragraph 3 of 3\n",
      "\n",
      "Mobile BERT Extractive Summary:\n",
      "Gas supplies to Poland and Bulgaria were cut off , after they refused to pay in rubles. Other big European gas companies have told CNN they are working on ways to pay for Russian gas , while not breaking EU sanctions.\n",
      "----------\n",
      "News Article Summary\n",
      "\n",
      "----------\n",
      "News Article Paragraph 1 of 2\n",
      "\n",
      "Mobile BERT Extractive Summary:\n",
      "The coffee company says it has been operating in Russia for 15 years and has now closed its 130 licensed cafes in the country. Starbucks says it will ' support ' its nearly 2,000 workers in Russia , including pay for six months and assistance for partners to transition to new opportunities outside of Starbucks.\n",
      "----------\n",
      "News Article Paragraph 2 of 2\n",
      "\n",
      "Mobile BERT Extractive Summary:\n",
      "This comes after Starbucks CEO Kevin Johnson said in March that it had suspended all business activity in Russia , including shipment of all Starbucks products.\n"
     ]
    }
   ],
   "source": [
    "for article_id, article in enumerate(articles):\n",
    "    sents = [sent for paragraph in segmenter.analyze(article) for sent in paragraph]\n",
    "    sents = [(''.join(str(t) for t in s).strip()) for s in sents]\n",
    "    print(\"----------\\nNews Article Summary\\n\")\n",
    "    \n",
    "    pg = 1\n",
    "    sents_per_paragraph = 4\n",
    "    for grouped in grouper(sents, sents_per_paragraph):\n",
    "        grouped_sents = \" \".join([g for g in grouped if g is not None])\n",
    "\n",
    "        print(f\"----------\\nNews Article Paragraph {pg} of {math.ceil(len(sents) / sents_per_paragraph)}\\n\")\n",
    "        pg += 1\n",
    "\n",
    "        print(f\"Mobile BERT Extractive Summary:\\n{model.predict(grouped_sents, num_summary_sentences=2)}\")\n"
   ]
  },
  {
   "cell_type": "markdown",
   "metadata": {},
   "source": [
    "# Conclusions\n",
    "\n",
    "The extractive summaries are both easy to read and factually correct, even though they may not be as succinct as the abstractive summarizers.\n",
    "\n",
    "Paragraph level summarization is possible and the results are good.  This shows promise.\n",
    "\n",
    "Extractive summarization seems better fit for production applications."
   ]
  },
  {
   "cell_type": "code",
   "execution_count": null,
   "metadata": {},
   "outputs": [],
   "source": []
  }
 ],
 "metadata": {
  "kernelspec": {
   "display_name": "Python 3 (ipykernel)",
   "language": "python",
   "name": "python3"
  },
  "language_info": {
   "codemirror_mode": {
    "name": "ipython",
    "version": 3
   },
   "file_extension": ".py",
   "mimetype": "text/x-python",
   "name": "python",
   "nbconvert_exporter": "python",
   "pygments_lexer": "ipython3",
   "version": "3.10.4"
  }
 },
 "nbformat": 4,
 "nbformat_minor": 4
}
