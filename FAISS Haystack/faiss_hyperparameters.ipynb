{
 "cells": [
  {
   "cell_type": "code",
   "execution_count": 257,
   "metadata": {},
   "outputs": [],
   "source": [
    "import faiss\n",
    "import numpy as np\n",
    "import pandas as pd\n",
    "import matplotlib.pyplot as plt\n",
    "import seaborn as sns\n",
    "from time import time\n",
    "from sklearn.metrics import mean_squared_error\n",
    "from sklearn.preprocessing import MinMaxScaler"
   ]
  },
  {
   "cell_type": "code",
   "execution_count": 189,
   "metadata": {},
   "outputs": [],
   "source": [
    "NLIST = 3\n",
    "NPROBE = 3\n",
    "\n",
    "# reasonable defaults for IVF PQ\n",
    "M = 8\n",
    "BITS = 8"
   ]
  },
  {
   "cell_type": "markdown",
   "metadata": {},
   "source": [
    "Create some fake embeddings"
   ]
  },
  {
   "cell_type": "code",
   "execution_count": 190,
   "metadata": {},
   "outputs": [
    {
     "data": {
      "text/plain": [
       "(1000, 512)"
      ]
     },
     "execution_count": 190,
     "metadata": {},
     "output_type": "execute_result"
    }
   ],
   "source": [
    "embeddings = np.random.randn(1000, 512).astype(np.float32)\n",
    "embeddings.shape"
   ]
  },
  {
   "cell_type": "code",
   "execution_count": 191,
   "metadata": {},
   "outputs": [],
   "source": [
    "nbr_embeddings, embed_dim = embeddings.shape"
   ]
  },
  {
   "cell_type": "code",
   "execution_count": 192,
   "metadata": {},
   "outputs": [
    {
     "name": "stdout",
     "output_type": "stream",
     "text": [
      "[0, 1, 2, 3, 4, 5, 6, 7, 8, 9]\n"
     ]
    }
   ],
   "source": [
    "document_ids = [i for i in range(nbr_embeddings)]\n",
    "print(document_ids[:10])"
   ]
  },
  {
   "cell_type": "markdown",
   "metadata": {},
   "source": [
    "Set up FAISS index.\n",
    "\n",
    "First set up a Flat L2 index - this is the baseline.  It will be used as a quantizer for the other indices."
   ]
  },
  {
   "cell_type": "code",
   "execution_count": 193,
   "metadata": {},
   "outputs": [
    {
     "name": "stdout",
     "output_type": "stream",
     "text": [
      "True\n"
     ]
    }
   ],
   "source": [
    "# set up the baseline: an index that uses only the L2 distance\n",
    "flat_index = faiss.IndexIDMap2(faiss.IndexFlatL2(embed_dim))\n",
    "print(flat_index.is_trained)  # should already be true - no need to train a pure L2 distance calculation\n",
    "flat_index.add_with_ids(embeddings, np.array(document_ids))"
   ]
  },
  {
   "cell_type": "code",
   "execution_count": 194,
   "metadata": {},
   "outputs": [],
   "source": [
    "quantizer = faiss.IndexFlatL2(embed_dim)  # the L2 distance will be used as a quantizer for other indices"
   ]
  },
  {
   "cell_type": "code",
   "execution_count": 213,
   "metadata": {},
   "outputs": [],
   "source": [
    "ivf_flat_start = time()\n",
    "ivf_flat_index = faiss.IndexIVFFlat(quantizer, embed_dim, NLIST)\n",
    "ivf_flat_index.nprobe = NPROBE\n",
    "ivf_flat_index.train(embeddings)\n",
    "ivf_flat_index.add_with_ids(embeddings, np.array(document_ids))\n",
    "ivf_flat_end = time()"
   ]
  },
  {
   "cell_type": "code",
   "execution_count": 214,
   "metadata": {},
   "outputs": [],
   "source": [
    "ivf_pq_start = time()\n",
    "ivf_pq_index = faiss.IndexIVFPQ(quantizer, embed_dim, NLIST, M, BITS)\n",
    "ivf_pq_index.nprobe = NPROBE\n",
    "ivf_pq_index.train(embeddings)\n",
    "ivf_pq_index.add_with_ids(embeddings, np.array(document_ids))\n",
    "ivf_pq_end = time()"
   ]
  },
  {
   "cell_type": "markdown",
   "metadata": {},
   "source": [
    "Assume you want to search for documents similar to document 0"
   ]
  },
  {
   "cell_type": "code",
   "execution_count": 215,
   "metadata": {},
   "outputs": [
    {
     "data": {
      "text/plain": [
       "(1, 512)"
      ]
     },
     "execution_count": 215,
     "metadata": {},
     "output_type": "execute_result"
    }
   ],
   "source": [
    "query_vector = embeddings[0,:].reshape(1,-1)\n",
    "query_vector.shape"
   ]
  },
  {
   "cell_type": "code",
   "execution_count": 216,
   "metadata": {},
   "outputs": [
    {
     "data": {
      "text/plain": [
       "(1, 512)"
      ]
     },
     "execution_count": 216,
     "metadata": {},
     "output_type": "execute_result"
    }
   ],
   "source": [
    "query_vector.shape"
   ]
  },
  {
   "cell_type": "markdown",
   "metadata": {},
   "source": [
    "Perform range search to find similar documents within the given distance threshold"
   ]
  },
  {
   "cell_type": "code",
   "execution_count": 217,
   "metadata": {},
   "outputs": [],
   "source": [
    "DISTANCE_THRESHOLD = 10000  # make this large enough so that everything is within range"
   ]
  },
  {
   "cell_type": "code",
   "execution_count": 218,
   "metadata": {},
   "outputs": [],
   "source": [
    "flat_limits, flat_distances, flat_indices = flat_index.range_search(query_vector, DISTANCE_THRESHOLD)\n",
    "\n",
    "ivf_flat_limits, ivf_flat_distances, ivf_flat_indices = ivf_flat_index.range_search(query_vector, DISTANCE_THRESHOLD)\n",
    "\n",
    "ivf_pq_limits, ivf_pq_distances, ivf_pq_indices = ivf_pq_index.range_search(query_vector, DISTANCE_THRESHOLD)"
   ]
  },
  {
   "cell_type": "code",
   "execution_count": 219,
   "metadata": {},
   "outputs": [],
   "source": [
    "flat_limits = flat_limits.tolist()\n",
    "flat_indices = flat_indices.tolist()\n",
    "\n",
    "ivf_flat_limits = ivf_flat_limits.tolist()\n",
    "ivf_flat_indices = ivf_flat_indices.tolist()\n",
    "\n",
    "ivf_pq_limits = ivf_pq_limits.tolist()\n",
    "ivf_pq_indices = ivf_pq_indices.tolist()"
   ]
  },
  {
   "cell_type": "code",
   "execution_count": 220,
   "metadata": {},
   "outputs": [],
   "source": [
    "# check that everything is in range\n",
    "assert(len(flat_indices) == nbr_embeddings)\n",
    "assert(len(ivf_flat_indices) == nbr_embeddings)\n",
    "assert(len(ivf_pq_indices) == nbr_embeddings)"
   ]
  },
  {
   "cell_type": "code",
   "execution_count": 221,
   "metadata": {},
   "outputs": [
    {
     "name": "stdout",
     "output_type": "stream",
     "text": [
      "Flat Number of clusters: 1 \n",
      " 1000\n"
     ]
    }
   ],
   "source": [
    "# form clusters by determining which documents are similar (there should only be 1 cluster because there is only 1 query vector)\n",
    "flat_clusters = [flat_indices[start:end] for start, end in zip(flat_limits, flat_limits[1:])]\n",
    "print(\"Flat Number of clusters:\", len(flat_clusters), \"\\n\", len(flat_clusters[0]))"
   ]
  },
  {
   "cell_type": "code",
   "execution_count": 222,
   "metadata": {},
   "outputs": [
    {
     "name": "stdout",
     "output_type": "stream",
     "text": [
      "IVF Flat Number of clusters: 1 \n",
      " 1000\n"
     ]
    }
   ],
   "source": [
    "# form clusters by determining which documents are similar (there should only be 1 cluster because there is only 1 query vector)\n",
    "ivf_flat_clusters = [ivf_flat_indices[start:end] for start, end in zip(ivf_flat_limits, ivf_flat_limits[1:])]\n",
    "print(\"IVF Flat Number of clusters:\", len(ivf_flat_clusters), \"\\n\", len(ivf_flat_clusters[0]))"
   ]
  },
  {
   "cell_type": "code",
   "execution_count": 223,
   "metadata": {},
   "outputs": [
    {
     "name": "stdout",
     "output_type": "stream",
     "text": [
      "IVF PQ Number of clusters: 1 \n",
      " 1000\n"
     ]
    }
   ],
   "source": [
    "# form clusters by determining which documents are similar (there should only be 1 cluster because there is only 1 query vector)\n",
    "ivf_pq_clusters = [ivf_pq_indices[start:end] for start, end in zip(ivf_pq_limits, ivf_pq_limits[1:])]\n",
    "print(\"IVF PQ Number of clusters:\", len(ivf_pq_clusters), \"\\n\", len(ivf_pq_clusters[0]))"
   ]
  },
  {
   "cell_type": "markdown",
   "metadata": {},
   "source": [
    "Since the distance threshold was very large, all documents formed 1 large cluster. That's ok for now, because we want to compare the distances only.  After comparing the distances, we will change the distance threshold to create smaller clusters, and compare the documents that end up in each cluster."
   ]
  },
  {
   "cell_type": "code",
   "execution_count": 224,
   "metadata": {},
   "outputs": [
    {
     "data": {
      "text/plain": [
       "(1000,)"
      ]
     },
     "execution_count": 224,
     "metadata": {},
     "output_type": "execute_result"
    }
   ],
   "source": [
    "flat_distances.shape"
   ]
  },
  {
   "cell_type": "code",
   "execution_count": 225,
   "metadata": {},
   "outputs": [
    {
     "data": {
      "text/plain": [
       "(1000,)"
      ]
     },
     "execution_count": 225,
     "metadata": {},
     "output_type": "execute_result"
    }
   ],
   "source": [
    "ivf_flat_distances.shape"
   ]
  },
  {
   "cell_type": "code",
   "execution_count": 226,
   "metadata": {},
   "outputs": [
    {
     "data": {
      "text/plain": [
       "(1000,)"
      ]
     },
     "execution_count": 226,
     "metadata": {},
     "output_type": "execute_result"
    }
   ],
   "source": [
    "ivf_pq_distances.shape"
   ]
  },
  {
   "cell_type": "code",
   "execution_count": 228,
   "metadata": {},
   "outputs": [
    {
     "name": "stdout",
     "output_type": "stream",
     "text": [
      "Error and Times for nprobe = 3 and nlist = 3\n",
      "IVF Flat Error: 0.06691112\n",
      "IVF Flat Time: 0.0039\n",
      "IVF PQ Error: 0.27246985\n",
      "IVF PQ Time: 0.34\n"
     ]
    }
   ],
   "source": [
    "# scale the distances to a range that is easier to interpret\n",
    "scaler = MinMaxScaler()\n",
    "flat_distances_scaled = scaler.fit_transform(flat_distances.reshape(-1,1))  # fit to the flat_distances because they are the ground truth\n",
    "ivf_flat_distances_scaled = scaler.transform(ivf_flat_distances.reshape(-1,1))\n",
    "ivf_pq_distances_scaled = scaler.transform(ivf_pq_distances.reshape(-1,1))\n",
    "\n",
    "# use flat as the baseline and compute the error of the IVF index and the IVF PQ index\n",
    "ivf_flat_rmse = mean_squared_error(y_true=flat_distances_scaled, y_pred=ivf_flat_distances_scaled, squared=False)\n",
    "ivf_pq_rmse = mean_squared_error(y_true=flat_distances_scaled, y_pred=ivf_pq_distances_scaled, squared=False)\n",
    "\n",
    "print(f\"Error and Times for nprobe = {NPROBE} and nlist = {NLIST}\")\n",
    "print(\"IVF Flat Error:\", ivf_flat_rmse)\n",
    "print(\"IVF Flat Time:\", round(ivf_flat_end - ivf_flat_start, 4))\n",
    "print(\"IVF PQ Error:\", ivf_pq_rmse)\n",
    "print(\"IVF PQ Time:\", round(ivf_pq_end - ivf_pq_start, 4))"
   ]
  },
  {
   "cell_type": "markdown",
   "metadata": {},
   "source": [
    "So when the computed distances are scaled from 0 to 1, ^this is the average error.  Which values of nprobe and nlist minimize the error?  Minimizing the error will slow down the distance computation.  Can we plot the tradeoff between error and computation time?  How do the number of samples impact computation time?"
   ]
  },
  {
   "cell_type": "code",
   "execution_count": 254,
   "metadata": {},
   "outputs": [
    {
     "name": "stdout",
     "output_type": "stream",
     "text": [
      "1000 3 3\n",
      "1000 3 30\n",
      "1000 30 3\n",
      "1000 30 30\n",
      "1000 300 3\n",
      "1000 300 30\n",
      "2500 3 3\n",
      "2500 3 30\n",
      "2500 30 3\n",
      "2500 30 30\n",
      "2500 300 3\n",
      "2500 300 30\n",
      "5000 3 3\n",
      "5000 3 30\n",
      "5000 30 3\n",
      "5000 30 30\n",
      "5000 300 3\n",
      "5000 300 30\n",
      "7500 3 3\n",
      "7500 3 30\n",
      "7500 30 3\n",
      "7500 30 30\n",
      "7500 300 3\n",
      "7500 300 30\n",
      "10000 3 3\n",
      "10000 3 30\n",
      "10000 30 3\n",
      "10000 30 30\n",
      "10000 300 3\n",
      "10000 300 30\n"
     ]
    }
   ],
   "source": [
    "DISTANCE_THRESHOLD = 1e20\n",
    "embed_dim = 512\n",
    "\n",
    "embeddings_to_try = [1000, 2500, 5000, 7500, 10000]\n",
    "nlist_to_try = [3, 30, 300]\n",
    "nprobe_to_try = [3, 30]\n",
    "\n",
    "results = []\n",
    "\n",
    "for nbr_embeddings in embeddings_to_try:\n",
    "\n",
    "    embeddings = np.random.randn(nbr_embeddings, embed_dim).astype(np.float32)\n",
    "    document_ids = [i for i in range(nbr_embeddings)]\n",
    "    query_vector = embeddings[0,:].reshape(1,-1)\n",
    "\n",
    "    # set up the baseline: an index that uses only the L2 distance\n",
    "    flat_index = faiss.IndexIDMap2(faiss.IndexFlatL2(embed_dim))\n",
    "    flat_index.add_with_ids(embeddings, np.array(document_ids))\n",
    "    \n",
    "    # set up the quantizer to be used for IVF Flat and IVF PQ indices\n",
    "    quantizer = faiss.IndexFlatL2(embed_dim)\n",
    "    \n",
    "    nlist_tracker, nprobe_tracker = [], []\n",
    "    ivf_flat_errors, ivf_flat_times = [], []\n",
    "    ivf_pq_errors, ivf_pq_times = [], []\n",
    "\n",
    "    for NLIST in nlist_to_try:\n",
    "        for NPROBE in nprobe_to_try:\n",
    "            print(nbr_embeddings, NLIST, NPROBE)\n",
    "            \n",
    "            nlist_tracker.append(NLIST)\n",
    "            nprobe_tracker.append(NPROBE)\n",
    "\n",
    "            ivf_flat_start = time()\n",
    "            ivf_flat_index = faiss.IndexIVFFlat(quantizer, embed_dim, NLIST)\n",
    "            ivf_flat_index.nprobe = NPROBE\n",
    "            ivf_flat_index.train(embeddings)\n",
    "            ivf_flat_index.add_with_ids(embeddings, np.array(document_ids))\n",
    "            ivf_flat_end = time()\n",
    "            \n",
    "            ivf_pq_start = time()\n",
    "            ivf_pq_index = faiss.IndexIVFPQ(quantizer, embed_dim, NLIST, M, BITS)\n",
    "            ivf_pq_index.nprobe = NPROBE\n",
    "            ivf_pq_index.train(embeddings)\n",
    "            ivf_pq_index.add_with_ids(embeddings, np.array(document_ids))\n",
    "            ivf_pq_end = time()\n",
    "            \n",
    "            flat_limits, flat_distances, flat_indices = flat_index.range_search(\n",
    "                query_vector, DISTANCE_THRESHOLD\n",
    "            )\n",
    "            ivf_flat_limits, ivf_flat_distances, ivf_flat_indices = ivf_flat_index.range_search(\n",
    "                query_vector, DISTANCE_THRESHOLD\n",
    "            )\n",
    "            ivf_pq_limits, ivf_pq_distances, ivf_pq_indices = ivf_pq_index.range_search(\n",
    "                query_vector, DISTANCE_THRESHOLD\n",
    "            )\n",
    "            \n",
    "            flat_limits = flat_limits.tolist()\n",
    "            flat_indices = flat_indices.tolist()\n",
    "\n",
    "            ivf_flat_limits = ivf_flat_limits.tolist()\n",
    "            ivf_flat_indices = ivf_flat_indices.tolist()\n",
    "\n",
    "            ivf_pq_limits = ivf_pq_limits.tolist()\n",
    "            ivf_pq_indices = ivf_pq_indices.tolist()\n",
    "\n",
    "            # scale the distances to a range that is easier to interpret\n",
    "            scaler = MinMaxScaler()\n",
    "            flat_distances_scaled = scaler.fit_transform(flat_distances.reshape(-1,1))  # fit to the flat_distances because they are the ground truth\n",
    "            ivf_flat_distances_scaled = scaler.transform(ivf_flat_distances.reshape(-1,1))\n",
    "            ivf_pq_distances_scaled = scaler.transform(ivf_pq_distances.reshape(-1,1))\n",
    "\n",
    "            # use flat as the baseline and compute the error of the IVF index and the IVF PQ index\n",
    "            # limit error to first 100 observations to prevent errors if the indices ranges are too different\n",
    "            ivf_flat_rmse = mean_squared_error(\n",
    "                y_true=flat_distances_scaled[:100,:], \n",
    "                y_pred=ivf_flat_distances_scaled[:100,:], \n",
    "                squared=False\n",
    "            )\n",
    "            ivf_pq_rmse = mean_squared_error(\n",
    "                y_true=flat_distances_scaled[:100,:], \n",
    "                y_pred=ivf_pq_distances_scaled[:100,:], \n",
    "                squared=False\n",
    "            )\n",
    "\n",
    "            ivf_flat_errors.append(ivf_flat_rmse)\n",
    "            ivf_flat_times.append(round(ivf_flat_end - ivf_flat_start, 4))\n",
    "            ivf_pq_errors.append(ivf_pq_rmse)\n",
    "            ivf_pq_times.append(round(ivf_pq_end - ivf_pq_start, 4))\n",
    "            \n",
    "    results.append(pd.DataFrame({\n",
    "        \"nbr_embeddings\": nbr_embeddings,\n",
    "        \"nlist\": nlist_tracker,\n",
    "        \"nprobe\": nprobe_tracker,\n",
    "        \"ivf_flat_rmse\": ivf_flat_errors,\n",
    "        \"ivf_flat_time\": ivf_flat_times,\n",
    "        \"ivf_pq_rmse\": ivf_pq_errors,\n",
    "        \"ivf_pq_time\": ivf_pq_times\n",
    "    }))\n",
    "\n",
    "df = pd.concat(results, axis=0)    "
   ]
  },
  {
   "cell_type": "code",
   "execution_count": 255,
   "metadata": {},
   "outputs": [
    {
     "data": {
      "text/html": [
       "<div>\n",
       "<style scoped>\n",
       "    .dataframe tbody tr th:only-of-type {\n",
       "        vertical-align: middle;\n",
       "    }\n",
       "\n",
       "    .dataframe tbody tr th {\n",
       "        vertical-align: top;\n",
       "    }\n",
       "\n",
       "    .dataframe thead th {\n",
       "        text-align: right;\n",
       "    }\n",
       "</style>\n",
       "<table border=\"1\" class=\"dataframe\">\n",
       "  <thead>\n",
       "    <tr style=\"text-align: right;\">\n",
       "      <th></th>\n",
       "      <th>nbr_embeddings</th>\n",
       "      <th>nlist</th>\n",
       "      <th>nprobe</th>\n",
       "      <th>ivf_flat_rmse</th>\n",
       "      <th>ivf_flat_time</th>\n",
       "      <th>ivf_pq_rmse</th>\n",
       "      <th>ivf_pq_time</th>\n",
       "    </tr>\n",
       "  </thead>\n",
       "  <tbody>\n",
       "    <tr>\n",
       "      <th>0</th>\n",
       "      <td>1000</td>\n",
       "      <td>3</td>\n",
       "      <td>3</td>\n",
       "      <td>0.056388</td>\n",
       "      <td>0.0061</td>\n",
       "      <td>0.260800</td>\n",
       "      <td>0.3370</td>\n",
       "    </tr>\n",
       "    <tr>\n",
       "      <th>1</th>\n",
       "      <td>1000</td>\n",
       "      <td>3</td>\n",
       "      <td>30</td>\n",
       "      <td>0.056388</td>\n",
       "      <td>0.0009</td>\n",
       "      <td>0.260800</td>\n",
       "      <td>0.3456</td>\n",
       "    </tr>\n",
       "    <tr>\n",
       "      <th>2</th>\n",
       "      <td>1000</td>\n",
       "      <td>30</td>\n",
       "      <td>3</td>\n",
       "      <td>0.056211</td>\n",
       "      <td>0.0159</td>\n",
       "      <td>0.345452</td>\n",
       "      <td>0.3284</td>\n",
       "    </tr>\n",
       "    <tr>\n",
       "      <th>3</th>\n",
       "      <td>1000</td>\n",
       "      <td>30</td>\n",
       "      <td>30</td>\n",
       "      <td>0.056211</td>\n",
       "      <td>0.0017</td>\n",
       "      <td>0.345452</td>\n",
       "      <td>0.3928</td>\n",
       "    </tr>\n",
       "    <tr>\n",
       "      <th>4</th>\n",
       "      <td>1000</td>\n",
       "      <td>300</td>\n",
       "      <td>3</td>\n",
       "      <td>0.071261</td>\n",
       "      <td>0.1468</td>\n",
       "      <td>0.273223</td>\n",
       "      <td>0.3971</td>\n",
       "    </tr>\n",
       "  </tbody>\n",
       "</table>\n",
       "</div>"
      ],
      "text/plain": [
       "   nbr_embeddings  nlist  nprobe  ivf_flat_rmse  ivf_flat_time  ivf_pq_rmse  \\\n",
       "0            1000      3       3       0.056388         0.0061     0.260800   \n",
       "1            1000      3      30       0.056388         0.0009     0.260800   \n",
       "2            1000     30       3       0.056211         0.0159     0.345452   \n",
       "3            1000     30      30       0.056211         0.0017     0.345452   \n",
       "4            1000    300       3       0.071261         0.1468     0.273223   \n",
       "\n",
       "   ivf_pq_time  \n",
       "0       0.3370  \n",
       "1       0.3456  \n",
       "2       0.3284  \n",
       "3       0.3928  \n",
       "4       0.3971  "
      ]
     },
     "execution_count": 255,
     "metadata": {},
     "output_type": "execute_result"
    }
   ],
   "source": [
    "df.reset_index(drop=True,inplace=True)\n",
    "df.head()"
   ]
  },
  {
   "cell_type": "code",
   "execution_count": 264,
   "metadata": {},
   "outputs": [
    {
     "data": {
      "image/png": "[encoded data removed]",
      "text/plain": [
       "<Figure size 432x288 with 1 Axes>"
      ]
     },
     "metadata": {
      "needs_background": "light"
     },
     "output_type": "display_data"
    }
   ],
   "source": [
    "sns.lineplot(x='ivf_flat_time', y='ivf_flat_rmse', hue='nlist', data=df)\n",
    "plt.show()"
   ]
  },
  {
   "cell_type": "markdown",
   "metadata": {},
   "source": [
    "We will likely need multiple plots for different combinations of nbr embeddings, nlist and nprobe.  "
   ]
  },
  {
   "cell_type": "code",
   "execution_count": null,
   "metadata": {},
   "outputs": [],
   "source": []
  }
 ],
 "metadata": {
  "kernelspec": {
   "display_name": "Python 3",
   "language": "python",
   "name": "python3"
  },
  "language_info": {
   "codemirror_mode": {
    "name": "ipython",
    "version": 3
   },
   "file_extension": ".py",
   "mimetype": "text/x-python",
   "name": "python",
   "nbconvert_exporter": "python",
   "pygments_lexer": "ipython3",
   "version": "3.8.10"
  }
 },
 "nbformat": 4,
 "nbformat_minor": 4
}
