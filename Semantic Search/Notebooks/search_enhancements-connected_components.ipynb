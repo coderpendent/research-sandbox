{
 "cells": [
  {
   "cell_type": "code",
   "execution_count": 1,
   "id": "c3ea7c1a",
   "metadata": {},
   "outputs": [],
   "source": [
    "import numpy as np\n",
    "from scipy.sparse import coo_matrix\n",
    "from scipy.sparse.csgraph import connected_components"
   ]
  },
  {
   "cell_type": "code",
   "execution_count": 2,
   "id": "c914b3f7",
   "metadata": {},
   "outputs": [],
   "source": [
    "embeddings = np.random.randn(10, 512).astype(np.float32)"
   ]
  },
  {
   "cell_type": "code",
   "execution_count": 5,
   "id": "bca52eb3",
   "metadata": {},
   "outputs": [
    {
     "data": {
      "text/plain": [
       "'\\nMatrix will look like this:\\n    0   1   2   3\\n0   1   1   0   0\\n1   1   1   1   0\\n2   0   1   1   1\\n3   0   0   1   1\\n'"
      ]
     },
     "execution_count": 5,
     "metadata": {},
     "output_type": "execute_result"
    }
   ],
   "source": [
    "\"\"\"\n",
    "Matrix will look like this:\n",
    "    0   1   2   3\n",
    "0   1   1   0   0\n",
    "1   1   1   1   0\n",
    "2   0   1   1   1\n",
    "3   0   0   1   1\n",
    "\"\"\""
   ]
  },
  {
   "cell_type": "code",
   "execution_count": 6,
   "id": "a638fef0",
   "metadata": {},
   "outputs": [
    {
     "name": "stdout",
     "output_type": "stream",
     "text": [
      "[[1. 1. 0. 0.]\n",
      " [1. 1. 1. 0.]\n",
      " [0. 1. 1. 1.]\n",
      " [0. 0. 1. 1.]] \n",
      "\n",
      "1 \n",
      " [0 0 0 0]\n"
     ]
    }
   ],
   "source": [
    "edges = set([\n",
    "    (0, 0), (0, 1),\n",
    "    (1, 0), (1, 1), (1, 2),\n",
    "    (2, 1), (2, 2), (2, 3),\n",
    "    (3, 2), (3, 3),\n",
    "])\n",
    "nbr_documents = 4\n",
    "matrix_shape = (nbr_documents, nbr_documents)\n",
    "rows, cols = zip(*edges)\n",
    "sparse_mat = coo_matrix((np.ones(len(edges)), (rows, cols)), shape=matrix_shape)\n",
    "nbr_clusters, cluster = connected_components(sparse_mat)\n",
    "print(sparse_mat.todense(), \"\\n\")\n",
    "print(nbr_clusters, \"\\n\", cluster)"
   ]
  },
  {
   "cell_type": "markdown",
   "id": "90c7b958",
   "metadata": {},
   "source": [
    "Connected components ensures there is only 1 cluster per document.  It may create false positives, or call things similar that should not be, but the alternative is to allow documents to exist in multiple clusters. Connected components also acts as a safeguard against false negatives, because it links things that are just under the similarity threshold."
   ]
  },
  {
   "cell_type": "code",
   "execution_count": null,
   "id": "3da60845",
   "metadata": {},
   "outputs": [],
   "source": []
  }
 ],
 "metadata": {
  "kernelspec": {
   "display_name": "Python 3 (ipykernel)",
   "language": "python",
   "name": "python3"
  },
  "language_info": {
   "codemirror_mode": {
    "name": "ipython",
    "version": 3
   },
   "file_extension": ".py",
   "mimetype": "text/x-python",
   "name": "python",
   "nbconvert_exporter": "python",
   "pygments_lexer": "ipython3",
   "version": "3.8.12"
  }
 },
 "nbformat": 4,
 "nbformat_minor": 5
}
